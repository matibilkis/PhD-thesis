{
 "cells": [
  {
   "cell_type": "code",
   "execution_count": 1,
   "id": "d2ec9329",
   "metadata": {},
   "outputs": [
    {
     "name": "stderr",
     "output_type": "stream",
     "text": [
      "100%|███████████████████████████████████████████████████████████████████████████████████████████████████████████████████████████████████████████████████| 10000/10000 [23:23<00:00,  7.12it/s]\n"
     ]
    }
   ],
   "source": [
    "import numpy as np\n",
    "import matplotlib.pyplot as plt \n",
    "from tqdm import tqdm\n",
    "import os \n",
    "p0 = .5\n",
    "p1 = .6\n",
    "\n",
    "M = int(1e4)\n",
    "N = int(1e4)\n",
    "Nbins = 50\n",
    "Y_1 = []\n",
    "for j in tqdm(range(M)):\n",
    "    Y_1 += [[np.random.choice([1,0],p=[p1,1-p1]) for k in range(N)]]\n",
    "Y_1 = np.stack(Y_1)\n",
    "\n",
    "dire = \"/home/giq/Desktop/data_example_toss/\"\n",
    "os.makedirs(dire,exist_ok=True)\n",
    "np.save(dire+\"Y_1\",Y_1)"
   ]
  },
  {
   "cell_type": "code",
   "execution_count": 4,
   "id": "3cecfb74",
   "metadata": {},
   "outputs": [],
   "source": [
    "Y_0 = np.load(dire+\"Y_0.npy\")\n",
    "Y_1 = np.load(dire+\"Y_1.npy\")"
   ]
  },
  {
   "cell_type": "code",
   "execution_count": 5,
   "id": "70442a6d",
   "metadata": {},
   "outputs": [
    {
     "data": {
      "text/plain": [
       "(10000, 10000)"
      ]
     },
     "execution_count": 5,
     "metadata": {},
     "output_type": "execute_result"
    }
   ],
   "source": [
    "Y_0.shape"
   ]
  },
  {
   "cell_type": "code",
   "execution_count": 8,
   "id": "781431aa",
   "metadata": {},
   "outputs": [
    {
     "data": {
      "text/plain": [
       "array([1.        , 0.5       , 0.66666667, ..., 0.59421884, 0.59415942,\n",
       "       0.5941    ])"
      ]
     },
     "execution_count": 8,
     "metadata": {},
     "output_type": "execute_result"
    }
   ],
   "source": [
    "np.cumsum(Y_0[0,:])/np.arange(1,N+1)\n",
    "np.cumsum(Y_1[0,:])/np.arange(1,N+1)"
   ]
  },
  {
   "cell_type": "code",
   "execution_count": null,
   "id": "563f7baf",
   "metadata": {},
   "outputs": [],
   "source": []
  }
 ],
 "metadata": {
  "kernelspec": {
   "display_name": "Python 3 (ipykernel)",
   "language": "python",
   "name": "python3"
  },
  "language_info": {
   "codemirror_mode": {
    "name": "ipython",
    "version": 3
   },
   "file_extension": ".py",
   "mimetype": "text/x-python",
   "name": "python",
   "nbconvert_exporter": "python",
   "pygments_lexer": "ipython3",
   "version": "3.10.6"
  }
 },
 "nbformat": 4,
 "nbformat_minor": 5
}
